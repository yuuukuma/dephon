{
 "cells": [
  {
   "cell_type": "code",
   "execution_count": 1,
   "metadata": {
    "collapsed": true
   },
   "outputs": [],
   "source": [
    "from pymatgen.core import Structure\n",
    "\n",
    "structure = Structure.from_str(\"\"\"Mg1 O1\n",
    "1.0\n",
    "   0.0000000000000000    2.1282420000000002    2.1282420000000002\n",
    "   2.1282420000000002    0.0000000000000000    2.1282420000000002\n",
    "   2.1282420000000002    2.1282420000000002    0.0000000000000000\n",
    "Mg O\n",
    "1 1\n",
    "direct\n",
    "   0.0000000000000000    0.0000000000000000    0.0000000000000000 Mg\n",
    "   0.5000000000000000    0.5000000000000000    0.5000000000000000 O\"\"\",\n",
    "                               fmt=\"poscar\")"
   ]
  },
  {
   "cell_type": "code",
   "execution_count": 2,
   "outputs": [
    {
     "name": "stdout",
     "output_type": "stream",
     "text": [
      "Mg3 O3\n",
      "1.0\n",
      "   2.1282420000000002   -2.1282420000000002    0.0000000000000000\n",
      "   2.1282420000000002    0.0000000000000000   -2.1282420000000002\n",
      "   4.2564840000000004    4.2564840000000004    4.2564840000000004\n",
      "Mg O\n",
      "3 3\n",
      "direct\n",
      "   0.6666666666666667    0.6666666666666667    0.3333333333333333 Mg\n",
      "   0.0000000000000000    0.0000000000000000    0.0000000000000000 Mg\n",
      "   0.3333333333333333    0.3333333333333334    0.6666666666666667 Mg\n",
      "   0.6666666666666666    0.6666666666666667    0.8333333333333333 O\n",
      "   0.0000000000000000    0.0000000000000000    0.5000000000000000 O\n",
      "   0.3333333333333333    0.3333333333333333    0.1666666666666665 O\n",
      "\n"
     ]
    }
   ],
   "source": [
    "from pymatgen.core.surface import SlabGenerator\n",
    "\n",
    "s_111 = structure * [[-1, 1, 0], [-1, 0, 1], [1, 1, 1]]\n",
    "print(s_111.to(\"POSCAR\"))"
   ],
   "metadata": {
    "collapsed": false,
    "pycharm": {
     "name": "#%%\n"
    }
   }
  },
  {
   "cell_type": "code",
   "execution_count": 3,
   "outputs": [
    {
     "name": "stdout",
     "output_type": "stream",
     "text": [
      "[ 4.6821324 -0.1064121 -0.3192363] Mg\n",
      "[0. 0. 0.] Mg\n",
      "[4.6821324 2.0218299 1.8090057] Mg\n",
      "[6.384726 2.128242 2.128242] O\n",
      "[2.5538904 2.0218299 1.8090057] O\n",
      "[ 2.1282420e+00 -4.4408921e-16 -4.4408921e-16] O\n",
      "Full Formula (Mg3 O3)\n",
      "Reduced Formula: MgO\n",
      "abc   :   3.009789   3.009789   7.372447\n",
      "angles:  90.000000  90.000000  60.000000\n",
      "pbc   :       True       True       True\n",
      "Sites (6)\n",
      "  #  SP           _default_single_ccd_for_e_p_coupling         b         c\n",
      "---  ----  --------  --------  --------\n",
      "  0  Mg    0.716667  0.816667  0.333333\n",
      "  1  Mg    0         0         0\n",
      "  2  Mg    0.383333  0.483333  0.666667\n",
      "  3  O     0.666667  0.666667  0.833333\n",
      "  4  O     0.05      0.15      0.5\n",
      "  5  O     0.333333  0.333333  0.166667\n"
     ]
    }
   ],
   "source": [
    "for x in s_111:\n",
    "    if 0.25 < x.frac_coords[2] < 0.75:\n",
    "        x.frac_coords[0] += 0.05\n",
    "        x.frac_coords[1] += 0.15\n",
    "\n",
    "    print(x)\n",
    "print(s_111)"
   ],
   "metadata": {
    "collapsed": false,
    "pycharm": {
     "name": "#%%\n"
    }
   }
  },
  {
   "cell_type": "code",
   "execution_count": 5,
   "outputs": [
    {
     "name": "stdout",
     "output_type": "stream",
     "text": [
      "Mg3 O3\n",
      "1.0\n",
      "   2.1282420000000002   -2.1282420000000002    0.0000000000000000\n",
      "   2.1282420000000002    0.0000000000000000   -2.1282420000000002\n",
      "   4.2564840000000004    4.2564840000000004    4.2564840000000004\n",
      "Mg O\n",
      "3 3\n",
      "direct\n",
      "   0.7166666666666668    0.8166666666666668    0.3333333333333333 Mg\n",
      "   0.0000000000000000    0.0000000000000000    0.0000000000000000 Mg\n",
      "   0.3833333333333333    0.4833333333333334    0.6666666666666667 Mg\n",
      "   0.6666666666666666    0.6666666666666667    0.8333333333333333 O\n",
      "   0.0500000000000000    0.1500000000000000    0.5000000000000000 O\n",
      "   0.3333333333333333    0.3333333333333333    0.1666666666666665 O\n",
      "\n"
     ]
    }
   ],
   "source": [
    "print(s_111.to(\"POSCAR\"))"
   ],
   "metadata": {
    "collapsed": false,
    "pycharm": {
     "name": "#%%\n"
    }
   }
  },
  {
   "cell_type": "code",
   "execution_count": null,
   "outputs": [],
   "source": [
    "from vise.util.structure_symmetrizer import StructureSymmetrizer\n",
    "\n",
    "sga = StructureSymmetrizer(s_111)\n",
    "print(sga.spglib_sym_data)"
   ],
   "metadata": {
    "collapsed": false,
    "pycharm": {
     "name": "#%%\n"
    }
   }
  }
 ],
 "metadata": {
  "kernelspec": {
   "display_name": "Python 3",
   "language": "python",
   "name": "python3"
  },
  "language_info": {
   "codemirror_mode": {
    "name": "ipython",
    "version": 2
   },
   "file_extension": ".py",
   "mimetype": "text/x-python",
   "name": "python",
   "nbconvert_exporter": "python",
   "pygments_lexer": "ipython2",
   "version": "2.7.6"
  }
 },
 "nbformat": 4,
 "nbformat_minor": 0
}